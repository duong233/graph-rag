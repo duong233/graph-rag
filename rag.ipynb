{
 "cells": [
  {
   "cell_type": "code",
   "execution_count": 2,
   "metadata": {},
   "outputs": [],
   "source": [
    "import pandas as pd\n",
    "from llama_index.core import Document"
   ]
  },
  {
   "cell_type": "code",
   "execution_count": 3,
   "metadata": {},
   "outputs": [],
   "source": [
    "sample_document = \"\"\"\n",
    "Hưng Đạo Vương Trần Quốc Tuấn là người đã trực tiếp chỉ huy quân đội đánh tan hai cuộc xâm lược của quân Nguyên–Mông năm 1285 và năm 1288. Ông được biết đến với những chiến công lẫy lừng, là một nhà quân sự tài ba với gia thế hiển hách. Đúng là người giỏi, người tài nên cái gì ông cũng dám làm, dám chịu. Đau khổ vì người con gái mình yêu thương phải lấy người khác làm chồng, ông đã tạo ra một phi vụ cướp dâu chấn động nhất lịch sử Việt Nam.\n",
    "\n",
    "\n",
    "Năm 1237, Trần Cảnh (Trần Thái Tông) lên ngôi đã lâu mà vẫn không có con nối dõi, lo sợ nhà Trần bị tuyệt hậu, Trần Thủ Độ đã gây sức ép phế Lý Chiêu Hoàng để ép Trần Cảnh kết hôn với chị dâu của mình là công chúa Thuận Thiên, tức là vợ của Trần Liễu - cha của Trần Quốc Tuấn. Trần Liễu tức giận, mang binh rửa hận nhưng thân già sức yếu nên việc bất thành, cuối cùng phải buông giáp quy hàng, bị giáng xuống làm An Sinh Vương, cho về an trú ở đất Yên Sinh. Khi ấy, Trần Quốc Tuấn mới 7 tuổi.\n",
    "\n",
    "Chị của Trần Cảnh là Thụy Bà công chúa vì thương cháu mình đang còn nhỏ phải rời kinh đô tới nơi xa, đã cầu xin vua để nhận nuôi Quốc Tuấn để khuây khỏa nỗi buồn khi chồng bà đã mất.\n",
    "\n",
    "Bà nhận nuôi Quốc Tuấn được 8 năm, cho ông học văn, học võ, lớn lên với các con em hoàng tộc cùng trang lứa. Cũng chính trong thời gian này, Trần Quốc Tuấn gặp gỡ, cùng trải qua thời niên thiếu của mình với Thiên Thành công chúa.\n",
    "\n",
    "Trong suốt những năm tháng học tập và sinh sống nơi cung cấm, tình cảm của công chúa và Trần Quốc Tuấn cứ lớn dần lên, quấn quýt không rời. Mối tình thanh mai trúc mã cứ thế nở rộ.\n",
    "\n",
    "Cứ tưởng đây là mối lương duyên trời ban, cho tới khi Thiên Thành tới tuổi gả chồng, vua Trần Thái Tông đã hạ chỉ gả nàng cho Trung Thành Vương, con trai của Nhân Đạo Vương, phá tan giấc mộng đôi lứa của hai người.\n",
    "\n",
    "Sách Đại Việt sử ký toàn thư ghi lại rằng ngày 15 tháng 2 năm 1251, vua mở hội lớn 7 ngày đêm, bày các tranh về lễ kết tóc và nhiều trò chơi cho người trong triều ngoài nội đến xem, ý muốn cho công chúa Thiên Thành làm lễ kết tóc với Trung Thành Vương. Trước đó, nhà vua cũng cho Thiên Thành công chúa về ở vương phủ cha của Trung Thành Vương để chờ ngày làm lễ ăn hỏi.\n",
    "\n",
    "Trong khi cả kinh thành đang tưng bừng với những trò chơi và lễ hội, ở vương phủ Trần Quốc Tuấn chỉ cần nghĩ đến việc ngày mai, người con gái mình yêu thương sẽ trở thành vợ người khác thì tâm tư của chàng càng đau đớn. Chàng trằn trọc suốt đêm không ngủ cuối cùng chàng đưa ra quyết định táo bạo đó chính là đột nhập vào phủ Nhân Đạo Vương, cướp vợ về.\n",
    "\n",
    "Nghĩ là làm, trong đêm tối, nhân lúc mọi người còn đang say mê với lễ hội, Trần Quốc Tuấn lẻn vào phủ Nhân Đạo Vương. Biết không thể theo vào bằng cửa chính, chàng đã tìm cách trèo tường, vượt qua hàng toán lính tuần tra, dò trong đêm đen và tìm được chính xác phòng công chúa.\n",
    "\n",
    "Trái tim đau khổ của Thiên Thành sống lại lần nữa khi thấy người tình trong mộng xuất hiện trước mặt mình. Khi ấy, cả phủ Nhân Đạo Vương vẫn đang say trong lễ hội, không ai biết, trong phòng công chúa, đôi uyên ương đã gặp lại nhau. Thế nhưng, sự liều lĩnh này của Trần Quốc Tuấn sẽ trở thành thảm án nếu sự vụ bị bại lộ. Và nếu như chuyện không bại lộ, thì hôm sau công chúa Thiên Thành phải kết hôn với con trai của Nhân Đạo Vương. Để tránh khỏi tai ương đó, Trần Quốc Tuấn đã đi tiếp một bước cờ cao minh, đó chính là dồn nhà vua vào thế sự đã rồi.\n",
    "\n",
    "Ngay sau khi đột nhập thành công vào phòng công chúa, việc đầu tiên Trần Quốc Tuấn làm là ra lệnh cho thị nữ của công chúa về báo cho Thụy Bà công chúa, mẹ nuôi của chàng, Sau khi nhận được tin báo, Thụy Bà công chúa vào cung ngay lập tức và than khóc với Thái Tông: \"Không ngờ Quốc Tuấn càn rỡ đang đêm lẻn vào chỗ của Thiên Thành. Nhân Đạo Vương đã bắt giữ hắn rồi, e sẽ giết hắn mất. Xin bệ hạ rủ lòng thương, sai người đến cứu\".\n",
    "\n",
    "Lời nói của Thụy Bà công chúa như sét đánh ngang tai nhà vua, Trần Thái Tông tức Cảnh lúc bấy giờ đã nhận đủ lễ vật của Nhân Đạo Vương, sao có thể để Trần Quốc Tuấn cả gan làm loạn như vậy? Thụy Bà công chúa tiếp tục kiên trì van xin. Cộng thêm với việc ông nghĩ rằng đó là huyết mạch của anh trai Trần Liễu, Thái Tông đã đã sai người vây phủ Nhân Đạo Vương, xông thẳng tới hoa viên vắng lặng, vào phòng công chúa Thiên Thành để áp giải, thực chất là hộ tống, Trần Quốc Tuấn ra ngoài một cách an toàn. Đến lúc đó, cả phủ Nhân Đạo Vương mới ngỡ ngàng nhận ra Trần Quốc Tuấn đã vào phủ \"tư thông\" với công chúa Thiên Thành.\n",
    "\n",
    "Việc công chúa \"tư thông\" với nam tử khác ngay trong phủ sắp cưới là điều không thể chấp nhận được. Hôm sau, Thụy Bà công chúa đã nhanh tay hỏi cưới công chúa Thiên Thành cho cháu trai mình, với sinh lễ là 10 mâm vàng sống và nói \"vì vội quá nên không sắm đủ lễ vật, mong hoàng thượng nhận cho\". Trước chuyện đã rồi, Trần Thái Tông đành xuống chiếu gả Thiên Thành công chúa cho Trần Quốc Tuấn và ngậm ngùi cắt 2.000 khoảnh ruộng tốt ở huyện Ứng Thiên để \"an ủi\" Nhân Đạo Vương.\n",
    "\n",
    "Cuối cùng Trần Quốc Tuấn chàng đã lấy được thanh mai trúc mã mà ông yêu bấy lâu. Hai vợ chồng chàng đã có một cuộc sống êm ấm, hạnh phúc, sinh được bốn trai, một gái. Bốn người con trai ai cũng không phụ danh tiếng người cha, đều là những danh tướng lẫy lừng nhà Trần. Người con gái út sau này trở thành Bảo Thánh Hoàng Hậu Trần Trinh, vợ vua Trần Nhân Tông, mẹ đẻ vua Trần Anh Tông.\n",
    "\n",
    "\n",
    "\"\"\""
   ]
  },
  {
   "cell_type": "code",
   "execution_count": 4,
   "metadata": {},
   "outputs": [],
   "source": [
    "documents = [\n",
    "    Document(text=sample_document)\n",
    "]"
   ]
  },
  {
   "cell_type": "code",
   "execution_count": 5,
   "metadata": {},
   "outputs": [],
   "source": [
    "import os\n",
    "from llama_index.llms.openai import OpenAI\n",
    "llm = OpenAI(model='gpt4')"
   ]
  },
  {
   "cell_type": "markdown",
   "metadata": {},
   "source": [
    "GraphRAG </br>\n",
    "* Tạo Đồ thị - Tạo Đồ thị, xây dựng các communities và các bản tóm tắt của chúng trên tài liệu đã cho\n",
    "* Trả lời Truy vấn - Sử dụng các bản tóm tắt của các communities được tạo từ bước 1 để trả lời\n",
    "\n",
    "Tạo Đồ thị: </br>\n",
    "* Tài liệu source thành text chunks: Tài liệu được chia thành các đoạn văn bản nhỏ để dễ xử lý\n",
    "* Text chunks thành Element Instances: Mỗi đoạn văn bản được phân tích để xác định và trích xuất các entities và relationships, dẫn đến một danh sách các tuple đại diện cho các phần tử này\n",
    "* Element Instances thành Element Summaries: Các entities và relationships được tóm tắt thành các khối văn bản mô tả cho mỗi phần tử sử dụng LLM.\n",
    "* Element Summaries thành Graph Communities: Các entities, relationships và các bản tóm tắt tạo thành một graph, sau đó sử dụng thuật toán Hieraarchical Leiden để thiết lập cấu trúc phân cấp\n",
    "* Graph Communities thành Community Summaries: LLM tạo các bản tomsd tắt cho mỗi cộng đồng, cung cấp cái nhìn sâu sắc về cấu trúc chủ đề tổng thể và ngữ nghĩa của tập dữ liệu.\n",
    "\n",
    "Trả lời Truy vấn: Community Summaries thành Global Answers: Các bản tóm tắt của các cộng đồng được sử dụng để trả lời người dùng. Điều này bao gồm tạo các câu trả lời trung gian, sau đó được hợp nhất thành một câu trả lời\n"
   ]
  },
  {
   "cell_type": "markdown",
   "metadata": {},
   "source": [
    "**GraphRAGExtractor** </br>\n",
    "Class GraphRAGExtractor được thiết kế để trích xuất triples (subject-relation-object) từ văn bản và làm phong phú bằng cách thêm mô tả cho các entities và relationships vào các thuộc tính bằng cách sử dụng LLM. </br>\n",
    "Các thành phần chính:\n",
    "* llm: model sử dụng trích xuất\n",
    "* extract_prompt: prompt template sử dụng để hướng dẫn LLM trích xuất thông tin\n",
    "* parse_fn: function phân tích output của LLM thành dữ liệu có cấu trúc\n",
    "* max_paths_per_chunk; Giới hạn số lượng triples được trên mỗi đoạn văn bản\n",
    "* num_workers: Số lượng workers cho việc xử lí song song các nodes.\n",
    "\n",
    "Các method chính:\n",
    "* call: Điểm đầu vào để xử lý một danh sách các text nodes.\n",
    "* acall: Hàm call sử dụng async\n",
    "* _aextract: Phương pháp lõi xử lý từng node riêng lẻ\n",
    "\n",
    "Đối với mỗi input node:\n",
    "* Gửi văn bản đến LLM cùng extract prompt.\n",
    "* Phản hồi của LLM được phân tích để trích xuất entities, relationships, mô tả cho entities và relationships.\n",
    "* Entities được chuyển thành EntityNode. Mô tả entity được lưu trữ trong metadata.\n",
    "* Relationships được chuyển đổi thành các đối tượng Relation. Mô tả relationship được lưu trữ trong metadata.\n",
    "* Những thông tin được thêm vào metadata của node dưới các khóa KG_NODES_KEY và KR_RELATIONS_KEY."
   ]
  },
  {
   "cell_type": "markdown",
   "metadata": {},
   "source": [
    "**GraphStore** </br>\n",
    "Lớp GraphStore được thiết kế để triển khai pipeline GraphRAG </br>\n",
    "Lớp này sử dụng các thuật toán phát hiện communities để nhóm các nút liên quan trong đồ thị và sau đó tạo ra các bản tóm tắt cho mỗi cộng đồng sử dụng LLM. </br>\n",
    "Phương pháp chính: </br>\n",
    "**build_communities()**:</br>\n",
    "Chuyển đổi biểu diễn đồ thị nội bộ thành đồ thị NetworkX </br>\n",
    "Áp dụng thuật toán Leiden phân cấp cho việc phát hiện communities </br>\n",
    "Thu thập thông tin chi tiết từng cộng đồng </br>\n",
    "Tạo các bản tóm tắt từng cộng đồng </br>\n",
    "**generate_community_summary(text)** </br>\n",
    "Sử dụng LLM để tạo một bản tóm tắt về các mối quan hệ trong một cộng đồng. Bản tóm tắt bao gồm tên thực thể và một sự tổng hợp của các mô tả mối quan hệ. </br>\n",
    "**_create_nx_graph()**: </br>\n",
    "Chuyển đổi biểu diễn đồ thị nội bộ thành đồ thị NetworkX </br>\n",
    "**_collect_community_info(nx_graph, clusters)** </br>\n",
    "Thu thập thông tin chi tiết từng nodes trong communities. Tạo biểu diễn chuỗi của từng mối quan hệ trong 1 community. </br>\n",
    "**_summarize_communities(community_info)** </br>\n",
    "Tạo và lưu trữ các bản tóm tắt cho từng cộng đồng sử dụng LLM.\n",
    "**get_community_summaries()** </br>\n",
    "Trả về các bản tóm tắt cộng đồng bằng cách xây dựng chúng nếu chưa có sẵn."
   ]
  },
  {
   "cell_type": "markdown",
   "metadata": {},
   "source": [
    "**GraphRAGQueryEngine**\n",
    "\n",
    "Lớp **GraphRAGQueryEngine** là một query engine tùy chỉnh được thiết kế để xử lý các truy vấn bằng cách sử dụng phương pháp GraphRAG. Nó tận dụng các bản tóm tắt cộng đồng được tạo bởi GraphRAGStore để trả lời các truy vấn của người dùng. Dưới đây là sự phân tích về chức năng của nó:\n",
    "\n",
    "Các thành phần chính:\n",
    "\n",
    "- graph_store: Một instance của GraphRAGStore, chứa các bản tóm tắt cộng đồng.\n",
    "- llm: Một Language Model (LLM) được sử dụng để tạo và tổng hợp các câu trả lời.\n",
    "\n",
    "Phương thức chính:\n",
    "\n",
    "- custom_query(query_str: str)\n",
    "\n",
    "  Đây là điểm đầu vào chính để xử lý một truy vấn. Nó truy xuất các bản tóm tắt cộng đồng, tạo ra các câu trả lời từ mỗi bản tóm tắt, và sau đó tổng hợp các câu trả lời này thành một phản hồi cuối cùng.\n",
    "\n",
    "- generate_answer_from_summary(community_summary, query):\n",
    "\n",
    "  Tạo ra một câu trả lời cho truy vấn dựa trên một bản tóm tắt cộng đồng duy nhất. Sử dụng LLM để diễn giải bản tóm tắt cộng đồng trong bối cảnh của truy vấn.\n",
    "\n",
    "- aggregate_answers(community_answers):\n",
    "\n",
    "  Kết hợp các câu trả lời cá nhân từ các cộng đồng khác nhau thành một phản hồi cuối cùng mạch lạc. Sử dụng LLM để tổng hợp nhiều góc nhìn thành một câu trả lời ngắn gọn.\n",
    "\n",
    "Quy trình xử lý truy vấn:\n",
    "\n",
    "1. Truy xuất các bản tóm tắt cộng đồng từ graph store.\n",
    "2. Đối với mỗi bản tóm tắt cộng đồng, tạo ra một câu trả lời cụ thể cho truy vấn.\n",
    "3. Tổng hợp tất cả các câu trả lời cụ thể của cộng đồng thành một phản hồi cuối cùng mạch lạc.\n",
    "\n",
    "Ví dụ sử dụng:\n",
    "\n",
    "```python\n",
    "query_engine = GraphRAGQueryEngine(graph_store=graph_store, llm=llm)\n",
    "\n",
    "response = query_engine.query(\"query\")\n",
    "```\n"
   ]
  },
  {
   "cell_type": "code",
   "execution_count": null,
   "metadata": {},
   "outputs": [],
   "source": []
  }
 ],
 "metadata": {
  "kernelspec": {
   "display_name": "DuongBKCS",
   "language": "python",
   "name": "python3"
  },
  "language_info": {
   "codemirror_mode": {
    "name": "ipython",
    "version": 3
   },
   "file_extension": ".py",
   "mimetype": "text/x-python",
   "name": "python",
   "nbconvert_exporter": "python",
   "pygments_lexer": "ipython3",
   "version": "3.10.13"
  }
 },
 "nbformat": 4,
 "nbformat_minor": 2
}
